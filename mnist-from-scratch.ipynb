{
 "cells": [
  {
   "cell_type": "markdown",
   "id": "dc586f5d",
   "metadata": {
    "papermill": {
     "duration": 0.00288,
     "end_time": "2023-05-09T03:38:06.275288",
     "exception": false,
     "start_time": "2023-05-09T03:38:06.272408",
     "status": "completed"
    },
    "tags": []
   },
   "source": [
    "# One Hidden Layer NN for the MNIST data set using only numpy\n",
    "#### with 64 node, it got accuracy of 91% "
   ]
  },
  {
   "cell_type": "code",
   "execution_count": 1,
   "id": "ba8e6978",
   "metadata": {
    "_cell_guid": "b1076dfc-b9ad-4769-8c92-a6c4dae69d19",
    "_uuid": "8f2839f25d086af736a60e9eeb907d3b93b6e0e5",
    "execution": {
     "iopub.execute_input": "2023-05-09T03:38:06.284166Z",
     "iopub.status.busy": "2023-05-09T03:38:06.283696Z",
     "iopub.status.idle": "2023-05-09T03:38:06.294463Z",
     "shell.execute_reply": "2023-05-09T03:38:06.293616Z"
    },
    "papermill": {
     "duration": 0.016636,
     "end_time": "2023-05-09T03:38:06.296429",
     "exception": false,
     "start_time": "2023-05-09T03:38:06.279793",
     "status": "completed"
    },
    "tags": []
   },
   "outputs": [],
   "source": [
    "import numpy as np # linear algebra\n",
    "import pandas as pd # data processing, CSV file I/O (e.g. pd.read_csv)\n",
    "from matplotlib import pyplot as plt"
   ]
  },
  {
   "cell_type": "code",
   "execution_count": 2,
   "id": "bd54a4a6",
   "metadata": {
    "execution": {
     "iopub.execute_input": "2023-05-09T03:38:06.311471Z",
     "iopub.status.busy": "2023-05-09T03:38:06.305247Z",
     "iopub.status.idle": "2023-05-09T03:38:09.465369Z",
     "shell.execute_reply": "2023-05-09T03:38:09.464409Z"
    },
    "papermill": {
     "duration": 3.168055,
     "end_time": "2023-05-09T03:38:09.467622",
     "exception": false,
     "start_time": "2023-05-09T03:38:06.299567",
     "status": "completed"
    },
    "tags": []
   },
   "outputs": [],
   "source": [
    "data = pd.read_csv(\"/kaggle/input/digit-recognizer/train.csv\")"
   ]
  },
  {
   "cell_type": "code",
   "execution_count": 3,
   "id": "738f8544",
   "metadata": {
    "execution": {
     "iopub.execute_input": "2023-05-09T03:38:09.474236Z",
     "iopub.status.busy": "2023-05-09T03:38:09.473265Z",
     "iopub.status.idle": "2023-05-09T03:38:10.113841Z",
     "shell.execute_reply": "2023-05-09T03:38:10.112869Z"
    },
    "papermill": {
     "duration": 0.646187,
     "end_time": "2023-05-09T03:38:10.116319",
     "exception": false,
     "start_time": "2023-05-09T03:38:09.470132",
     "status": "completed"
    },
    "tags": []
   },
   "outputs": [],
   "source": [
    "data = np.array(data)\n",
    "m, n = data.shape\n",
    "np.random.shuffle(data) # shuffle before splitting into dev and training sets\n",
    "\n",
    "data_dev = data[0:1000].T\n",
    "Y_dev = data_dev[0]\n",
    "X_dev = data_dev[1:n]\n",
    "X_dev = X_dev / 255.\n",
    "\n",
    "data_train = data[1000:m].T\n",
    "Y_train = data_train[0]\n",
    "X_train = data_train[1:n]\n",
    "X_train = X_train / 255.\n",
    "_,m_train = X_train.shape"
   ]
  },
  {
   "cell_type": "code",
   "execution_count": 4,
   "id": "735a615b",
   "metadata": {
    "execution": {
     "iopub.execute_input": "2023-05-09T03:38:10.123685Z",
     "iopub.status.busy": "2023-05-09T03:38:10.122186Z",
     "iopub.status.idle": "2023-05-09T03:38:10.137695Z",
     "shell.execute_reply": "2023-05-09T03:38:10.136962Z"
    },
    "papermill": {
     "duration": 0.020905,
     "end_time": "2023-05-09T03:38:10.139738",
     "exception": false,
     "start_time": "2023-05-09T03:38:10.118833",
     "status": "completed"
    },
    "tags": []
   },
   "outputs": [],
   "source": [
    "\n",
    "num_hidden_nodes = 64\n",
    "learning_rate = 0.2\n",
    "\n",
    "def init_params():\n",
    "    W1 = np.random.rand(num_hidden_nodes, 784) - 0.5\n",
    "    b1 = np.random.rand(num_hidden_nodes, 1) - 0.5\n",
    "    W2 = np.random.rand(10, num_hidden_nodes) - 0.5\n",
    "    b2 = np.random.rand(10, 1) - 0.5\n",
    "    return W1, b1, W2, b2\n",
    "\n",
    "def ReLU(Z):\n",
    "    return np.maximum(Z, 0)\n",
    "\n",
    "def softmax(Z):\n",
    "    A = np.exp(Z) / sum(np.exp(Z))\n",
    "    return A\n",
    "    \n",
    "def forward_prop(W1, b1, W2, b2, X):\n",
    "    Z1 = W1.dot(X) + b1\n",
    "    A1 = ReLU(Z1)\n",
    "    Z2 = W2.dot(A1) + b2\n",
    "    A2 = softmax(Z2)\n",
    "    return Z1, A1, Z2, A2\n",
    "\n",
    "def ReLU_deriv(Z):\n",
    "    return Z > 0\n",
    "\n",
    "def one_hot(Y):\n",
    "    one_hot_Y = np.zeros((Y.size, Y.max() + 1))\n",
    "    one_hot_Y[np.arange(Y.size), Y] = 1\n",
    "    one_hot_Y = one_hot_Y.T\n",
    "    return one_hot_Y\n",
    "\n",
    "def backward_prop(Z1, A1, Z2, A2, W1, W2, X, Y):\n",
    "    one_hot_Y = one_hot(Y)\n",
    "    dZ2 = A2 - one_hot_Y\n",
    "    \n",
    "    \n",
    "    dW2 = 1 / m * dZ2.dot(A1.T)\n",
    "    db2 = 1 / m * np.sum(dZ2)\n",
    "    \n",
    "    \n",
    "    dZ1 = W2.T.dot(dZ2) * ReLU_deriv(Z1)\n",
    "    dW1 = 1 / m * dZ1.dot(X.T)\n",
    "    db1 = 1 / m * np.sum(dZ1)\n",
    "    return dW1, db1, dW2, db2\n",
    "\n",
    "def backward_prop2(Z1, A1, Z2, A2, W1, W2, X, Y):\n",
    "    one_hot_Y = one_hot(Y)\n",
    "    dL_dy = A2 - one_hot_Y\n",
    "    \n",
    "    ##\n",
    "    dL_dW2 = 1/m * dL_dy.dot(A1.T)\n",
    "    dL_db2 = 1/m * np.sum(dL_dy)\n",
    "    \n",
    "    ##\n",
    "    dL_dz1 = W2.T.dot(dL_dy) * ReLU_deriv(Z1)\n",
    "    dL_dW1 = 1/m * dL_dz1.dot(X.T)\n",
    "    dL_db1 = 1/m * np.sum(dL_dz1)\n",
    "    return dL_dW1, dL_db1, dL_dW2, dL_db2\n",
    "\n",
    "def update_params(W1, b1, W2, b2, dW1, db1, dW2, db2, alpha):\n",
    "    W1 = W1 - alpha * dW1\n",
    "    b1 = b1 - alpha * db1    \n",
    "    W2 = W2 - alpha * dW2  \n",
    "    b2 = b2 - alpha * db2    \n",
    "    return W1, b1, W2, b2\n",
    "\n",
    "def get_predictions(A2):\n",
    "    return np.argmax(A2, 0)\n",
    "\n",
    "def get_accuracy(predictions, Y):\n",
    "#     print(predictions, Y)\n",
    "    return np.sum(predictions == Y) / Y.size\n",
    "\n",
    "# Batch gradient descent\n",
    "def gradient_descent(X, Y, alpha, iterations):\n",
    "    W1, b1, W2, b2 = init_params()\n",
    "    for i in range(iterations):\n",
    "        Z1, A1, Z2, A2 = forward_prop(W1, b1, W2, b2, X)\n",
    "        dW1, db1, dW2, db2 = backward_prop2(Z1, A1, Z2, A2, W1, W2, X, Y)\n",
    "        W1, b1, W2, b2 = update_params(W1, b1, W2, b2, dW1, db1, dW2, db2, alpha)\n",
    "        if i % 10 == 0:\n",
    "            print(\"Iteration: \", i)\n",
    "            predictions = get_predictions(A2)\n",
    "            print(get_accuracy(predictions, Y))\n",
    "    return W1, b1, W2, b2"
   ]
  },
  {
   "cell_type": "code",
   "execution_count": 5,
   "id": "7fbe7ad2",
   "metadata": {
    "execution": {
     "iopub.execute_input": "2023-05-09T03:38:10.145335Z",
     "iopub.status.busy": "2023-05-09T03:38:10.145082Z",
     "iopub.status.idle": "2023-05-09T03:40:29.659073Z",
     "shell.execute_reply": "2023-05-09T03:40:29.657756Z"
    },
    "papermill": {
     "duration": 139.521241,
     "end_time": "2023-05-09T03:40:29.663169",
     "exception": false,
     "start_time": "2023-05-09T03:38:10.141928",
     "status": "completed"
    },
    "tags": []
   },
   "outputs": [
    {
     "name": "stdout",
     "output_type": "stream",
     "text": [
      "Iteration:  0\n",
      "0.10192682926829268\n",
      "Iteration:  10\n",
      "0.5167804878048781\n",
      "Iteration:  20\n",
      "0.6640487804878049\n",
      "Iteration:  30\n",
      "0.7278536585365853\n",
      "Iteration:  40\n",
      "0.7641219512195122\n",
      "Iteration:  50\n",
      "0.788829268292683\n",
      "Iteration:  60\n",
      "0.8069268292682927\n",
      "Iteration:  70\n",
      "0.8200243902439024\n",
      "Iteration:  80\n",
      "0.8307317073170731\n",
      "Iteration:  90\n",
      "0.8387560975609756\n",
      "Iteration:  100\n",
      "0.8473658536585366\n",
      "Iteration:  110\n",
      "0.8530975609756097\n",
      "Iteration:  120\n",
      "0.8584146341463414\n",
      "Iteration:  130\n",
      "0.8628048780487805\n",
      "Iteration:  140\n",
      "0.8669756097560976\n",
      "Iteration:  150\n",
      "0.8708292682926829\n",
      "Iteration:  160\n",
      "0.8744634146341463\n",
      "Iteration:  170\n",
      "0.8777073170731707\n",
      "Iteration:  180\n",
      "0.8799512195121951\n",
      "Iteration:  190\n",
      "0.883\n",
      "Iteration:  200\n",
      "0.8855121951219512\n",
      "Iteration:  210\n",
      "0.8875853658536585\n",
      "Iteration:  220\n",
      "0.8899756097560976\n",
      "Iteration:  230\n",
      "0.8921707317073171\n",
      "Iteration:  240\n",
      "0.894219512195122\n",
      "Iteration:  250\n",
      "0.8962682926829268\n",
      "Iteration:  260\n",
      "0.8975609756097561\n",
      "Iteration:  270\n",
      "0.8991951219512195\n",
      "Iteration:  280\n",
      "0.9006341463414634\n",
      "Iteration:  290\n",
      "0.9018536585365854\n",
      "Iteration:  300\n",
      "0.9030487804878049\n",
      "Iteration:  310\n",
      "0.9042682926829269\n",
      "Iteration:  320\n",
      "0.9053414634146342\n",
      "Iteration:  330\n",
      "0.9065121951219512\n",
      "Iteration:  340\n",
      "0.9075121951219512\n",
      "Iteration:  350\n",
      "0.9087804878048781\n",
      "Iteration:  360\n",
      "0.9094634146341464\n",
      "Iteration:  370\n",
      "0.9102439024390244\n",
      "Iteration:  380\n",
      "0.9112926829268293\n",
      "Iteration:  390\n",
      "0.9119268292682927\n",
      "Iteration:  400\n",
      "0.9130487804878049\n",
      "Iteration:  410\n",
      "0.9139268292682927\n",
      "Iteration:  420\n",
      "0.914609756097561\n",
      "Iteration:  430\n",
      "0.9153658536585366\n",
      "Iteration:  440\n",
      "0.9161463414634147\n",
      "Iteration:  450\n",
      "0.9169268292682927\n",
      "Iteration:  460\n",
      "0.9174878048780488\n",
      "Iteration:  470\n",
      "0.9185365853658537\n",
      "Iteration:  480\n",
      "0.9193170731707317\n",
      "Iteration:  490\n",
      "0.9197804878048781\n"
     ]
    }
   ],
   "source": [
    "W1, b1, W2, b2 = gradient_descent(X_train, Y_train, learning_rate, 500)"
   ]
  },
  {
   "cell_type": "code",
   "execution_count": 6,
   "id": "d5ed1db9",
   "metadata": {
    "execution": {
     "iopub.execute_input": "2023-05-09T03:40:29.690442Z",
     "iopub.status.busy": "2023-05-09T03:40:29.689934Z",
     "iopub.status.idle": "2023-05-09T03:40:29.703386Z",
     "shell.execute_reply": "2023-05-09T03:40:29.702305Z"
    },
    "papermill": {
     "duration": 0.03036,
     "end_time": "2023-05-09T03:40:29.707002",
     "exception": false,
     "start_time": "2023-05-09T03:40:29.676642",
     "status": "completed"
    },
    "tags": []
   },
   "outputs": [],
   "source": [
    "def make_predictions(X, W1, b1, W2, b2):\n",
    "    _, _, _, A2 = forward_prop(W1, b1, W2, b2, X)\n",
    "    predictions = get_predictions(A2)\n",
    "    return predictions\n",
    "\n",
    "def test_prediction(index, W1, b1, W2, b2):\n",
    "    current_image = X_train[:, index, None]\n",
    "    prediction = make_predictions(X_train[:, index, None], W1, b1, W2, b2)\n",
    "    label = Y_train[index]\n",
    "    print(\"Prediction: \", prediction)\n",
    "    print(\"Label:       \", label)\n",
    "    \n",
    "    current_image = current_image.reshape((28, 28)) * 255\n",
    "    plt.gray()\n",
    "    plt.imshow(current_image, interpolation='nearest')\n",
    "    plt.show()"
   ]
  },
  {
   "cell_type": "code",
   "execution_count": 7,
   "id": "1a8a0f56",
   "metadata": {
    "execution": {
     "iopub.execute_input": "2023-05-09T03:40:29.732172Z",
     "iopub.status.busy": "2023-05-09T03:40:29.731705Z",
     "iopub.status.idle": "2023-05-09T03:40:32.095930Z",
     "shell.execute_reply": "2023-05-09T03:40:32.095078Z"
    },
    "papermill": {
     "duration": 2.379752,
     "end_time": "2023-05-09T03:40:32.098747",
     "exception": false,
     "start_time": "2023-05-09T03:40:29.718995",
     "status": "completed"
    },
    "tags": []
   },
   "outputs": [
    {
     "name": "stdout",
     "output_type": "stream",
     "text": [
      "Prediction:  [4]\n",
      "Label:        4\n"
     ]
    },
    {
     "data": {
      "image/png": "[encoded data removed]",
      "text/plain": [
       "<Figure size 640x480 with 1 Axes>"
      ]
     },
     "metadata": {},
     "output_type": "display_data"
    },
    {
     "name": "stdout",
     "output_type": "stream",
     "text": [
      "Prediction:  [9]\n",
      "Label:        7\n"
     ]
    },
    {
     "data": {
      "image/png": "[encoded data removed]",
      "text/plain": [
       "<Figure size 640x480 with 1 Axes>"
      ]
     },
     "metadata": {},
     "output_type": "display_data"
    },
    {
     "name": "stdout",
     "output_type": "stream",
     "text": [
      "Prediction:  [8]\n",
      "Label:        8\n"
     ]
    },
    {
     "data": {
      "image/png": "[encoded data removed]",
      "text/plain": [
       "<Figure size 640x480 with 1 Axes>"
      ]
     },
     "metadata": {},
     "output_type": "display_data"
    },
    {
     "name": "stdout",
     "output_type": "stream",
     "text": [
      "Prediction:  [2]\n",
      "Label:        2\n"
     ]
    },
    {
     "data": {
      "image/png": "[encoded data removed]",
      "text/plain": [
       "<Figure size 640x480 with 1 Axes>"
      ]
     },
     "metadata": {},
     "output_type": "display_data"
    },
    {
     "name": "stdout",
     "output_type": "stream",
     "text": [
      "Prediction:  [0]\n",
      "Label:        0\n"
     ]
    },
    {
     "data": {
      "image/png": "[encoded data removed]",
      "text/plain": [
       "<Figure size 640x480 with 1 Axes>"
      ]
     },
     "metadata": {},
     "output_type": "display_data"
    },
    {
     "name": "stdout",
     "output_type": "stream",
     "text": [
      "Prediction:  [6]\n",
      "Label:        6\n"
     ]
    },
    {
     "data": {
      "image/png": "[encoded data removed]",
      "text/plain": [
       "<Figure size 640x480 with 1 Axes>"
      ]
     },
     "metadata": {},
     "output_type": "display_data"
    },
    {
     "name": "stdout",
     "output_type": "stream",
     "text": [
      "Prediction:  [9]\n",
      "Label:        5\n"
     ]
    },
    {
     "data": {
      "image/png": "[encoded data removed]",
      "text/plain": [
       "<Figure size 640x480 with 1 Axes>"
      ]
     },
     "metadata": {},
     "output_type": "display_data"
    },
    {
     "name": "stdout",
     "output_type": "stream",
     "text": [
      "Prediction:  [7]\n",
      "Label:        7\n"
     ]
    },
    {
     "data": {
      "image/png": "[encoded data removed]",
      "text/plain": [
       "<Figure size 640x480 with 1 Axes>"
      ]
     },
     "metadata": {},
     "output_type": "display_data"
    },
    {
     "name": "stdout",
     "output_type": "stream",
     "text": [
      "Prediction:  [5]\n",
      "Label:        5\n"
     ]
    },
    {
     "data": {
      "image/png": "[encoded data removed]",
      "text/plain": [
       "<Figure size 640x480 with 1 Axes>"
      ]
     },
     "metadata": {},
     "output_type": "display_data"
    },
    {
     "name": "stdout",
     "output_type": "stream",
     "text": [
      "Prediction:  [9]\n",
      "Label:        9\n"
     ]
    },
    {
     "data": {
      "image/png": "[encoded data removed]",
      "text/plain": [
       "<Figure size 640x480 with 1 Axes>"
      ]
     },
     "metadata": {},
     "output_type": "display_data"
    }
   ],
   "source": [
    "# test_prediction(0, W1, b1, W2, b2)\n",
    "# test_prediction(1, W1, b1, W2, b2)\n",
    "# test_prediction(2, W1, b1, W2, b2)\n",
    "# test_prediction(3, W1, b1, W2, b2)\n",
    "# test_prediction(4, W1, b1, W2, b2)\n",
    "# test_prediction(5, W1, b1, W2, b2)\n",
    "# test_prediction(6, W1, b1, W2, b2)\n",
    "# test_prediction(7, W1, b1, W2, b2)\n",
    "# test_prediction(8, W1, b1, W2, b2)\n",
    "# test_prediction(9, W1, b1, W2, b2)\n",
    "# test_prediction(10, W1, b1, W2, b2)\n",
    "for i in range(10):\n",
    "    test_prediction(int(np.round(100 * (np.random.rand()))%m), W1, b1, W2, b2)"
   ]
  }
 ],
 "metadata": {
  "kernelspec": {
   "display_name": "Python 3",
   "language": "python",
   "name": "python3"
  },
  "language_info": {
   "codemirror_mode": {
    "name": "ipython",
    "version": 3
   },
   "file_extension": ".py",
   "mimetype": "text/x-python",
   "name": "python",
   "nbconvert_exporter": "python",
   "pygments_lexer": "ipython3",
   "version": "3.10.10"
  },
  "papermill": {
   "default_parameters": {},
   "duration": 155.486822,
   "end_time": "2023-05-09T03:40:32.930587",
   "environment_variables": {},
   "exception": null,
   "input_path": "__notebook__.ipynb",
   "output_path": "__notebook__.ipynb",
   "parameters": {},
   "start_time": "2023-05-09T03:37:57.443765",
   "version": "2.4.0"
  }
 },
 "nbformat": 4,
 "nbformat_minor": 5
}
